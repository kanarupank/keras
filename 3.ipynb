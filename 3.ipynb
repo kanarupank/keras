{
 "cells": [
  {
   "cell_type": "code",
   "execution_count": 5,
   "metadata": {
    "colab": {},
    "colab_type": "code",
    "id": "YS2KZPKP2crT"
   },
   "outputs": [],
   "source": [
    "import numpy as np\n",
    "from tensorflow import keras\n",
    "from tensorflow.keras import layers\n",
    "import tensorflow as tf\n",
    "import matplotlib.pyplot as plt\n",
    "from tensorflow.keras.models import Model\n",
    "from tensorflow.keras.callbacks import EarlyStopping"
   ]
  },
  {
   "cell_type": "code",
   "execution_count": 6,
   "metadata": {
    "colab": {
     "base_uri": "https://localhost:8080/",
     "height": 51
    },
    "colab_type": "code",
    "id": "EV8-PSjK2nCp",
    "outputId": "c5223cd5-65d9-4cfc-fa9e-1bd56a032e74"
   },
   "outputs": [],
   "source": [
    "(x_train, y_train), (x_test, y_test) = keras.datasets.mnist.load_data()\n",
    "x_train = x_train.astype(\"float32\") / 255\n",
    "x_test = x_test.astype(\"float32\") / 255"
   ]
  },
  {
   "cell_type": "code",
   "execution_count": 8,
   "metadata": {
    "colab": {},
    "colab_type": "code",
    "id": "-U39SZgw2ric"
   },
   "outputs": [],
   "source": [
    "no_of_classes = 10\n",
    "input_shape = (28, 28, 1)\n",
    "\n",
    "noise_factor=.5\n",
    "x_train_noise=x_train+noise_factor*np.random.normal(loc=0,scale=1.0,size=x_train.shape)\n",
    "x_test_noise=x_test+noise_factor*np.random.normal(loc=0,scale=1.0,size=x_test.shape)\n",
    "x_train_noise=np.clip(x_train_noise,0.,1.)\n",
    "x_test_noise=np.clip(x_test_noise,0.,1.)\n",
    "\n",
    "x_train_noise = np.expand_dims(x_train_noise, -1) # Make sure images have shape (28, 28, 1)\n",
    "x_test_noise = np.expand_dims(x_test_noise, -1)\n",
    "\n",
    "y_train = keras.utils.to_categorical(y_train, no_of_classes)\n",
    "y_test = keras.utils.to_categorical(y_test, no_of_classes)"
   ]
  },
  {
   "cell_type": "code",
   "execution_count": 9,
   "metadata": {
    "colab": {},
    "colab_type": "code",
    "id": "8F0qnN_l-wIa"
   },
   "outputs": [],
   "source": [
    "#add encoder\n",
    "Input_img = layers.Input(shape=(28, 28, 1))  \n",
    "x1 = layers.Conv2D(64, (3, 3), activation='relu', padding='same')(Input_img)\n",
    "x2 = layers.MaxPooling2D((2, 2), padding='same')(x1)\n",
    "x3 = layers.Conv2D(32, (3, 3), activation='relu', padding='same')(x2)\n",
    "encoded = layers.MaxPooling2D((2, 2), padding='same')(x3)\n",
    "\n",
    "#add decoder\n",
    "x3 = layers.Conv2D(32, (3, 3), activation='relu', padding='same')(encoded)\n",
    "x2 = layers.UpSampling2D((2, 2))(x3)\n",
    "x1 = layers.Conv2D(64, (3, 3), activation='relu', padding='same')(x2)\n",
    "x = layers.UpSampling2D((2, 2))(x1)\n",
    "decoded = layers.Conv2D(1, (3, 3), activation='sigmoid', padding='same')(x)\n",
    "\n",
    "autoencoder = Model(Input_img, decoded)\n",
    "autoencoder.compile(optimizer=\"adam\", loss='binary_crossentropy')"
   ]
  },
  {
   "cell_type": "code",
   "execution_count": 10,
   "metadata": {
    "colab": {
     "base_uri": "https://localhost:8080/",
     "height": 1000
    },
    "colab_type": "code",
    "id": "azwKjZkM--z-",
    "outputId": "9be1a7e2-f2a5-4ff6-a9c7-bc4f44327d0b"
   },
   "outputs": [
    {
     "name": "stdout",
     "output_type": "stream",
     "text": [
      "Train on 60000 samples\n",
      "Epoch 1/20\n",
      "60000/60000 [==============================] - 131s 2ms/sample - loss: 0.1600\n",
      "Epoch 2/20\n",
      "60000/60000 [==============================] - 131s 2ms/sample - loss: 0.1107\n",
      "Epoch 3/20\n",
      "60000/60000 [==============================] - 129s 2ms/sample - loss: 0.1056\n",
      "Epoch 4/20\n",
      "60000/60000 [==============================] - 152s 3ms/sample - loss: 0.1032\n",
      "Epoch 5/20\n",
      "60000/60000 [==============================] - 144s 2ms/sample - loss: 0.1015\n",
      "Epoch 6/20\n",
      "60000/60000 [==============================] - 141s 2ms/sample - loss: 0.1002\n",
      "Epoch 7/20\n",
      "60000/60000 [==============================] - 134s 2ms/sample - loss: 0.0993\n",
      "Epoch 8/20\n",
      "60000/60000 [==============================] - 135s 2ms/sample - loss: 0.0985\n",
      "Epoch 9/20\n",
      "60000/60000 [==============================] - 136s 2ms/sample - loss: 0.0979\n",
      "Epoch 10/20\n",
      "60000/60000 [==============================] - 131s 2ms/sample - loss: 0.0974\n",
      "Epoch 11/20\n",
      "60000/60000 [==============================] - 128s 2ms/sample - loss: 0.0970\n",
      "Epoch 12/20\n",
      "60000/60000 [==============================] - 139s 2ms/sample - loss: 0.0967\n",
      "Epoch 13/20\n",
      "60000/60000 [==============================] - 131s 2ms/sample - loss: 0.0963\n",
      "Epoch 14/20\n",
      "60000/60000 [==============================] - 129s 2ms/sample - loss: 0.0962\n",
      "Epoch 15/20\n",
      "60000/60000 [==============================] - 135s 2ms/sample - loss: 0.0959\n",
      "Epoch 16/20\n",
      "60000/60000 [==============================] - 134s 2ms/sample - loss: 0.0957\n",
      "Epoch 17/20\n",
      "60000/60000 [==============================] - 134s 2ms/sample - loss: 0.0955\n",
      "Epoch 18/20\n",
      "60000/60000 [==============================] - 140s 2ms/sample - loss: 0.0953\n",
      "Epoch 19/20\n",
      "60000/60000 [==============================] - 139s 2ms/sample - loss: 0.0952\n",
      "Epoch 20/20\n",
      "60000/60000 [==============================] - 132s 2ms/sample - loss: 0.0950\n"
     ]
    },
    {
     "data": {
      "text/plain": [
       "<tensorflow.python.keras.callbacks.History at 0x1ec08d21d48>"
      ]
     },
     "execution_count": 10,
     "metadata": {},
     "output_type": "execute_result"
    }
   ],
   "source": [
    "autoencoder.fit(x_train_noise, x_train,\n",
    "                epochs=20,\n",
    "                batch_size=128)"
   ]
  },
  {
   "cell_type": "code",
   "execution_count": 13,
   "metadata": {
    "colab": {},
    "colab_type": "code",
    "id": "tXa2bdT9_jyi"
   },
   "outputs": [
    {
     "name": "stdout",
     "output_type": "stream",
     "text": [
      "Model: \"sequential_2\"\n",
      "_________________________________________________________________\n",
      "Layer (type)                 Output Shape              Param #   \n",
      "=================================================================\n",
      "conv2d_8 (Conv2D)            (None, 26, 26, 32)        320       \n",
      "_________________________________________________________________\n",
      "max_pooling2d_4 (MaxPooling2 (None, 13, 13, 32)        0         \n",
      "_________________________________________________________________\n",
      "conv2d_9 (Conv2D)            (None, 11, 11, 128)       36992     \n",
      "_________________________________________________________________\n",
      "max_pooling2d_5 (MaxPooling2 (None, 5, 5, 128)         0         \n",
      "_________________________________________________________________\n",
      "flatten_1 (Flatten)          (None, 3200)              0         \n",
      "_________________________________________________________________\n",
      "dropout_1 (Dropout)          (None, 3200)              0         \n",
      "_________________________________________________________________\n",
      "dense (Dense)                (None, 10)                32010     \n",
      "=================================================================\n",
      "Total params: 69,322\n",
      "Trainable params: 69,322\n",
      "Non-trainable params: 0\n",
      "_________________________________________________________________\n"
     ]
    }
   ],
   "source": [
    "#predict\n",
    "predicted=autoencoder.predict(x_test_noise)\n",
    "\n",
    "#denoised input\n",
    "train_renoised = autoencoder.predict(x_train_noise)\n",
    "test_renoised =autoencoder.predict(x_test_noise)\n",
    "\n",
    "#build classifer model\n",
    "model = keras.Sequential()\n",
    "model.add(keras.Input(shape=input_shape))\n",
    "model.add(layers.Conv2D(32, kernel_size=(3, 3), activation=\"relu\"))\n",
    "model.add(layers.MaxPooling2D(pool_size=(2, 2)))\n",
    "model.add(layers.Conv2D(128, kernel_size=(3, 3), activation=\"relu\"))\n",
    "model.add(layers.MaxPooling2D(pool_size=(2, 2)))\n",
    "model.add(layers.Flatten())\n",
    "model.add(layers.Dropout(0.5))\n",
    "model.add(layers.Dense(no_of_classes, activation=\"softmax\"))\n",
    "model.summary()"
   ]
  },
  {
   "cell_type": "code",
   "execution_count": 14,
   "metadata": {
    "colab": {},
    "colab_type": "code",
    "id": "Zm_mTJGoGVt3"
   },
   "outputs": [
    {
     "name": "stdout",
     "output_type": "stream",
     "text": [
      "Train on 54000 samples, validate on 6000 samples\n",
      "Epoch 1/10\n",
      "54000/54000 [==============================] - 31s 573us/sample - loss: 0.3718 - accuracy: 0.8866 - val_loss: 0.1434 - val_accuracy: 0.9570\n",
      "Epoch 2/10\n",
      "54000/54000 [==============================] - 39s 726us/sample - loss: 0.1652 - accuracy: 0.9479 - val_loss: 0.1126 - val_accuracy: 0.9652\n",
      "Epoch 3/10\n",
      "54000/54000 [==============================] - 33s 617us/sample - loss: 0.1401 - accuracy: 0.9555 - val_loss: 0.1010 - val_accuracy: 0.9698\n",
      "Epoch 4/10\n",
      "54000/54000 [==============================] - 35s 647us/sample - loss: 0.1265 - accuracy: 0.9595 - val_loss: 0.0931 - val_accuracy: 0.9715\n",
      "Epoch 5/10\n",
      "54000/54000 [==============================] - 35s 656us/sample - loss: 0.1174 - accuracy: 0.9612 - val_loss: 0.0913 - val_accuracy: 0.9712\n",
      "Epoch 6/10\n",
      "54000/54000 [==============================] - 35s 639us/sample - loss: 0.1109 - accuracy: 0.9635 - val_loss: 0.0868 - val_accuracy: 0.9730\n",
      "Epoch 7/10\n",
      "54000/54000 [==============================] - 39s 722us/sample - loss: 0.1038 - accuracy: 0.9654 - val_loss: 0.0834 - val_accuracy: 0.9735\n",
      "Epoch 8/10\n",
      "54000/54000 [==============================] - 35s 643us/sample - loss: 0.0975 - accuracy: 0.9683 - val_loss: 0.0835 - val_accuracy: 0.9745\n",
      "Epoch 9/10\n",
      "54000/54000 [==============================] - 38s 711us/sample - loss: 0.0923 - accuracy: 0.9700 - val_loss: 0.0830 - val_accuracy: 0.9732\n",
      "Epoch 10/10\n",
      "54000/54000 [==============================] - 32s 601us/sample - loss: 0.0919 - accuracy: 0.9694 - val_loss: 0.0798 - val_accuracy: 0.9760\n"
     ]
    },
    {
     "data": {
      "text/plain": [
       "<tensorflow.python.keras.callbacks.History at 0x1ec0f28e688>"
      ]
     },
     "execution_count": 14,
     "metadata": {},
     "output_type": "execute_result"
    }
   ],
   "source": [
    "batch_size = 128\n",
    "epochs = 10\n",
    "model.compile(loss=\"categorical_crossentropy\", optimizer=\"adam\", metrics=[\"accuracy\"])\n",
    "model.fit(train_renoised, y_train, batch_size=batch_size, epochs=epochs, validation_split=0.1)"
   ]
  },
  {
   "cell_type": "code",
   "execution_count": 15,
   "metadata": {
    "colab": {
     "base_uri": "https://localhost:8080/",
     "height": 68
    },
    "colab_type": "code",
    "id": "RpC4KOBqGaxp",
    "outputId": "df4d6df6-a0dd-4238-c463-35f24fd4152b"
   },
   "outputs": [
    {
     "name": "stdout",
     "output_type": "stream",
     "text": [
      "10000/10000 [==============================] - 2s 203us/sample - loss: 0.0814 - accuracy: 0.9721\n",
      "Test loss: 0.08139649834744632\n",
      "Test accuracy: 0.9721\n"
     ]
    }
   ],
   "source": [
    "#Evaluate\n",
    "score = model.evaluate(test_renoised, y_test)\n",
    "print(\"Test loss:\", score[0])\n",
    "print(\"Test accuracy:\", score[1])\n",
    "#observing a lower accuracy might need to try more epochs or with other configurations"
   ]
  },
  {
   "cell_type": "code",
   "execution_count": null,
   "metadata": {
    "colab": {},
    "colab_type": "code",
    "id": "5ieBxOIHGdNY"
   },
   "outputs": [],
   "source": []
  }
 ],
 "metadata": {
  "accelerator": "GPU",
  "colab": {
   "name": "Q3.ipynb",
   "provenance": []
  },
  "kernelspec": {
   "display_name": "Python 3",
   "language": "python",
   "name": "python3"
  },
  "language_info": {
   "codemirror_mode": {
    "name": "ipython",
    "version": 3
   },
   "file_extension": ".py",
   "mimetype": "text/x-python",
   "name": "python",
   "nbconvert_exporter": "python",
   "pygments_lexer": "ipython3",
   "version": "3.7.4"
  }
 },
 "nbformat": 4,
 "nbformat_minor": 1
}

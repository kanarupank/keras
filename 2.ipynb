{
 "cells": [
  {
   "cell_type": "code",
   "execution_count": 67,
   "metadata": {},
   "outputs": [],
   "source": [
    "from tensorflow import keras\n",
    "from tensorflow.keras import layers\n",
    "import matplotlib.pyplot as plt\n",
    "import numpy as np"
   ]
  },
  {
   "cell_type": "code",
   "execution_count": 68,
   "metadata": {},
   "outputs": [],
   "source": [
    "#reusable print_shape function \n",
    "def print_shape(x_train, y_train, x_test, y_test):\n",
    "    print(\"x_train:\",x_train.shape)\n",
    "    print(\"y_train:\",y_train.shape)\n",
    "    print(\"x_test:\",x_test.shape)\n",
    "    print(\"y_test:\",y_test.shape)"
   ]
  },
  {
   "cell_type": "code",
   "execution_count": 69,
   "metadata": {},
   "outputs": [
    {
     "name": "stdout",
     "output_type": "stream",
     "text": [
      "x_train: (60000, 28, 28)\n",
      "y_train: (60000,)\n",
      "x_test: (10000, 28, 28)\n",
      "y_test: (10000,)\n"
     ]
    }
   ],
   "source": [
    "(x_train, y_train), (x_test, y_test) = keras.datasets.mnist.load_data()\n",
    "x_train = x_train.astype(\"float32\") / 255\n",
    "x_test = x_test.astype(\"float32\") / 255\n",
    "print_shape(x_train, y_train, x_test, y_test)"
   ]
  },
  {
   "cell_type": "code",
   "execution_count": 70,
   "metadata": {},
   "outputs": [],
   "source": [
    "noise_factor=0.5 #tried for 0.25, 0.4, 0.5\n",
    "x_train_noicy=x_train+noise_factor*np.random.normal(loc=0,scale=1.0,size=x_train.shape)\n",
    "x_test_noicy=x_test+noise_factor*np.random.normal(loc=0,scale=1.0,size=x_test.shape)\n",
    "x_train_noicy=np.clip(x_train_noicy,0.,1.)\n",
    "x_test_noicy=np.clip(x_test_noicy,0.,1.)"
   ]
  },
  {
   "cell_type": "code",
   "execution_count": 71,
   "metadata": {},
   "outputs": [],
   "source": [
    "x_train_noicy = np.expand_dims(x_train_noicy, -1) # Make sure images have shape (28, 28, 1)\n",
    "x_test_noicy = np.expand_dims(x_test_noicy, -1)"
   ]
  },
  {
   "cell_type": "code",
   "execution_count": 72,
   "metadata": {},
   "outputs": [],
   "source": [
    "no_of_classes = 10 #digits 0-9\n",
    "y_train = keras.utils.to_categorical(y_train, no_of_classes)\n",
    "y_test = keras.utils.to_categorical(y_test, no_of_classes)"
   ]
  },
  {
   "cell_type": "code",
   "execution_count": 73,
   "metadata": {},
   "outputs": [
    {
     "name": "stdout",
     "output_type": "stream",
     "text": [
      "Model: \"sequential_9\"\n",
      "_________________________________________________________________\n",
      "Layer (type)                 Output Shape              Param #   \n",
      "=================================================================\n",
      "conv2d_16 (Conv2D)           (None, 26, 26, 32)        320       \n",
      "_________________________________________________________________\n",
      "max_pooling2d_16 (MaxPooling (None, 13, 13, 32)        0         \n",
      "_________________________________________________________________\n",
      "conv2d_17 (Conv2D)           (None, 11, 11, 64)        18496     \n",
      "_________________________________________________________________\n",
      "max_pooling2d_17 (MaxPooling (None, 5, 5, 64)          0         \n",
      "_________________________________________________________________\n",
      "flatten_8 (Flatten)          (None, 1600)              0         \n",
      "_________________________________________________________________\n",
      "dropout_8 (Dropout)          (None, 1600)              0         \n",
      "_________________________________________________________________\n",
      "dense_8 (Dense)              (None, 10)                16010     \n",
      "=================================================================\n",
      "Total params: 34,826\n",
      "Trainable params: 34,826\n",
      "Non-trainable params: 0\n",
      "_________________________________________________________________\n"
     ]
    }
   ],
   "source": [
    "model = keras.Sequential()\n",
    "input_shape = (28, 28, 1)\n",
    "model.add(keras.Input(shape=input_shape))\n",
    "model.add(layers.Conv2D(32, kernel_size=(3, 3), activation=\"relu\"))\n",
    "model.add(layers.MaxPooling2D(pool_size=(2, 2)))\n",
    "model.add(layers.Conv2D(64, kernel_size=(3, 3), activation=\"relu\"))\n",
    "model.add(layers.MaxPooling2D(pool_size=(2, 2)))\n",
    "model.add(layers.Flatten())\n",
    "model.add(layers.Dropout(0.5))\n",
    "model.add(layers.Dense(no_of_classes, activation=\"softmax\"))\n",
    "model.summary()"
   ]
  },
  {
   "cell_type": "code",
   "execution_count": 74,
   "metadata": {},
   "outputs": [
    {
     "name": "stdout",
     "output_type": "stream",
     "text": [
      "Train on 54000 samples, validate on 6000 samples\n",
      "Epoch 1/10\n",
      "54000/54000 [==============================] - 20s 365us/sample - loss: 0.6996 - accuracy: 0.7779 - val_loss: 0.2225 - val_accuracy: 0.9385\n",
      "Epoch 2/10\n",
      "54000/54000 [==============================] - 20s 364us/sample - loss: 0.2938 - accuracy: 0.9077 - val_loss: 0.1690 - val_accuracy: 0.9513\n",
      "Epoch 3/10\n",
      "54000/54000 [==============================] - 25s 461us/sample - loss: 0.2359 - accuracy: 0.9264 - val_loss: 0.1349 - val_accuracy: 0.9595\n",
      "Epoch 4/10\n",
      "54000/54000 [==============================] - 29s 543us/sample - loss: 0.2084 - accuracy: 0.9344 - val_loss: 0.1255 - val_accuracy: 0.9642\n",
      "Epoch 5/10\n",
      "54000/54000 [==============================] - 26s 481us/sample - loss: 0.1925 - accuracy: 0.9382 - val_loss: 0.1167 - val_accuracy: 0.9663\n",
      "Epoch 6/10\n",
      "54000/54000 [==============================] - 26s 482us/sample - loss: 0.1829 - accuracy: 0.9425 - val_loss: 0.1109 - val_accuracy: 0.9683\n",
      "Epoch 7/10\n",
      "54000/54000 [==============================] - 26s 488us/sample - loss: 0.1716 - accuracy: 0.9454 - val_loss: 0.1056 - val_accuracy: 0.9690\n",
      "Epoch 8/10\n",
      "54000/54000 [==============================] - 23s 434us/sample - loss: 0.1656 - accuracy: 0.9478 - val_loss: 0.1009 - val_accuracy: 0.9705\n",
      "Epoch 9/10\n",
      "54000/54000 [==============================] - 26s 474us/sample - loss: 0.1588 - accuracy: 0.9493 - val_loss: 0.1010 - val_accuracy: 0.9712\n",
      "Epoch 10/10\n",
      "54000/54000 [==============================] - 25s 460us/sample - loss: 0.1556 - accuracy: 0.9500 - val_loss: 0.0948 - val_accuracy: 0.9727\n"
     ]
    },
    {
     "data": {
      "text/plain": [
       "<tensorflow.python.keras.callbacks.History at 0x23091c2fcc8>"
      ]
     },
     "execution_count": 74,
     "metadata": {},
     "output_type": "execute_result"
    }
   ],
   "source": [
    " #hyper params\n",
    "batch_size = 128\n",
    "epochs = 10\n",
    "model.compile(loss=\"categorical_crossentropy\", optimizer=\"adam\", metrics=[\"accuracy\"])\n",
    "model.fit(x_train_noicy, y_train, batch_size=batch_size, epochs=epochs, validation_split=0.1)"
   ]
  },
  {
   "cell_type": "code",
   "execution_count": 75,
   "metadata": {},
   "outputs": [
    {
     "name": "stdout",
     "output_type": "stream",
     "text": [
      "Test loss: 0.10601955432109535\n",
      "Test accuracy: 0.9659\n"
     ]
    }
   ],
   "source": [
    "#evalutions\n",
    "score = model.evaluate(x_test_noicy, y_test, verbose=0)\n",
    "print(\"Test loss:\", score[0])\n",
    "print(\"Test accuracy:\", score[1])"
   ]
  }
 ],
 "metadata": {
  "kernelspec": {
   "display_name": "Python 3",
   "language": "python",
   "name": "python3"
  },
  "language_info": {
   "codemirror_mode": {
    "name": "ipython",
    "version": 3
   },
   "file_extension": ".py",
   "mimetype": "text/x-python",
   "name": "python",
   "nbconvert_exporter": "python",
   "pygments_lexer": "ipython3",
   "version": "3.7.4"
  }
 },
 "nbformat": 4,
 "nbformat_minor": 4
}
